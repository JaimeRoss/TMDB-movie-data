{
 "cells": [
  {
   "cell_type": "code",
   "execution_count": 13,
   "id": "adc65159-f32d-4d26-b8e8-756a749c0376",
   "metadata": {},
   "outputs": [],
   "source": [
    "# imports\n",
    "import pandas as pd\n",
    "import numpy as np\n",
    "import os, time,json\n",
    "import tmdbsimple as tmdb\n",
    "from tqdm.notebook import tqdm_notebook\n",
    "import glob"
   ]
  },
  {
   "cell_type": "code",
   "execution_count": 2,
   "id": "382d7fc5-eb02-4bff-bce8-018e7f16341c",
   "metadata": {},
   "outputs": [],
   "source": [
    "# custom functions\n",
    "def write_json(new_data, filename): \n",
    "    \"Adapted from: https://www.geeksforgeeks.org/append-to-json-file-using-python/\" \n",
    "    \n",
    "    with open(filename,'r+') as file:\n",
    "        # First we load existing data into a dict.\n",
    "        file_data = json.load(file)\n",
    "        ## Choose extend or append\n",
    "        if (type(new_data) == list) & (type(file_data) == list):\n",
    "            file_data.extend(new_data)\n",
    "        else:\n",
    "             file_data.append(new_data)\n",
    "        # Sets file's current position at offset.\n",
    "        file.seek(0)\n",
    "        # convert back to json.\n",
    "        json.dump(file_data, file)\n",
    "\n",
    "def get_movie_with_rating(movie_id):\n",
    "\n",
    "    #get movie object for the current id\n",
    "    movie = tmdb.Movies(movie_id)\n",
    "\n",
    "    #save the .info and .releases dictionaries\n",
    "    info = movie.info()\n",
    "    releases = movie.releases()\n",
    "\n",
    "    #loop through countries in releases\n",
    "    for country in releases[\"countries\"]:\n",
    "        #country == US\n",
    "        if country[\"iso_3166_1\"] == \"US\":\n",
    "            #save certification\n",
    "            info[\"certification\"] = country[\"certification\"]\n",
    "    return info"
   ]
  },
  {
   "cell_type": "code",
   "execution_count": 3,
   "id": "db43a705-3fed-4a0b-88ac-70075034d902",
   "metadata": {},
   "outputs": [
    {
     "data": {
      "text/plain": [
       "dict_keys(['api-key'])"
      ]
     },
     "execution_count": 3,
     "metadata": {},
     "output_type": "execute_result"
    }
   ],
   "source": [
    "# getting login credentials\n",
    "with open(\"/Users/chery/.secret/tmdb_api.json\", \"r\") as file:\n",
    "    login = json.load(file)\n",
    "## Display the keys of the loaded dict\n",
    "login.keys()"
   ]
  },
  {
   "cell_type": "code",
   "execution_count": 4,
   "id": "3e218504-2145-494f-8c61-3561525d66c3",
   "metadata": {},
   "outputs": [],
   "source": [
    "# setting API key\n",
    "tmdb.API_KEY =  login['api-key']"
   ]
  },
  {
   "cell_type": "code",
   "execution_count": 5,
   "id": "77a39eba-e663-461c-aa72-ffc3875259a8",
   "metadata": {},
   "outputs": [
    {
     "data": {
      "text/plain": [
       "['.ipynb_checkpoints',\n",
       " 'final_tmdb_data_2000.csv.gz',\n",
       " 'final_tmdb_data_2001.csv.gz',\n",
       " 'final_tmdb_data_2010.csv.gz',\n",
       " 'final_tmdb_data_2011.csv.gz',\n",
       " 'final_tmdb_data_2012.csv.gz',\n",
       " 'final_tmdb_data_2013.csv.gz',\n",
       " 'final_tmdb_data_2014.csv.gz',\n",
       " 'final_tmdb_data_2015.csv.gz',\n",
       " 'final_tmdb_data_2016.csv.gz',\n",
       " 'final_tmdb_data_2017.csv.gz',\n",
       " 'final_tmdb_data_2018.csv.gz',\n",
       " 'final_tmdb_data_2019.csv.gz',\n",
       " 'title_akas_combined.csv.gz',\n",
       " 'title_basics_combined.csv.gz',\n",
       " 'title_ratings_combined.csv.gz',\n",
       " 'tmdb_api_results_2000.json',\n",
       " 'tmdb_api_results_2001.json',\n",
       " 'tmdb_api_results_2010.json',\n",
       " 'tmdb_api_results_2011.json',\n",
       " 'tmdb_api_results_2012.json',\n",
       " 'tmdb_api_results_2013.json',\n",
       " 'tmdb_api_results_2014.json',\n",
       " 'tmdb_api_results_2015.json',\n",
       " 'tmdb_api_results_2016.json',\n",
       " 'tmdb_api_results_2017.json',\n",
       " 'tmdb_api_results_2018.json',\n",
       " 'tmdb_api_results_2019.json',\n",
       " 'tmdb_results_combined.csv.gz']"
      ]
     },
     "execution_count": 5,
     "metadata": {},
     "output_type": "execute_result"
    }
   ],
   "source": [
    "FOLDER = \"Data/\"\n",
    "os.makedirs(FOLDER, exist_ok=True)\n",
    "os.listdir(FOLDER)"
   ]
  },
  {
   "cell_type": "code",
   "execution_count": 6,
   "id": "1f7ac5ef-d5a2-40d2-a108-079e674fe48a",
   "metadata": {},
   "outputs": [
    {
     "data": {
      "text/html": [
       "<div>\n",
       "<style scoped>\n",
       "    .dataframe tbody tr th:only-of-type {\n",
       "        vertical-align: middle;\n",
       "    }\n",
       "\n",
       "    .dataframe tbody tr th {\n",
       "        vertical-align: top;\n",
       "    }\n",
       "\n",
       "    .dataframe thead th {\n",
       "        text-align: right;\n",
       "    }\n",
       "</style>\n",
       "<table border=\"1\" class=\"dataframe\">\n",
       "  <thead>\n",
       "    <tr style=\"text-align: right;\">\n",
       "      <th></th>\n",
       "      <th>tconst</th>\n",
       "      <th>titleType</th>\n",
       "      <th>primaryTitle</th>\n",
       "      <th>originalTitle</th>\n",
       "      <th>isAdult</th>\n",
       "      <th>startYear</th>\n",
       "      <th>endYear</th>\n",
       "      <th>runtimeMinutes</th>\n",
       "      <th>genres</th>\n",
       "    </tr>\n",
       "  </thead>\n",
       "  <tbody>\n",
       "    <tr>\n",
       "      <th>0</th>\n",
       "      <td>tt0035423</td>\n",
       "      <td>movie</td>\n",
       "      <td>Kate &amp; Leopold</td>\n",
       "      <td>Kate &amp; Leopold</td>\n",
       "      <td>0</td>\n",
       "      <td>2001.0</td>\n",
       "      <td>NaN</td>\n",
       "      <td>118</td>\n",
       "      <td>Comedy,Fantasy,Romance</td>\n",
       "    </tr>\n",
       "    <tr>\n",
       "      <th>1</th>\n",
       "      <td>tt0062336</td>\n",
       "      <td>movie</td>\n",
       "      <td>The Tango of the Widower and Its Distorting Mi...</td>\n",
       "      <td>El tango del viudo y su espejo deformante</td>\n",
       "      <td>0</td>\n",
       "      <td>2020.0</td>\n",
       "      <td>NaN</td>\n",
       "      <td>70</td>\n",
       "      <td>Drama</td>\n",
       "    </tr>\n",
       "    <tr>\n",
       "      <th>2</th>\n",
       "      <td>tt0068865</td>\n",
       "      <td>movie</td>\n",
       "      <td>Lives of Performers</td>\n",
       "      <td>Lives of Performers</td>\n",
       "      <td>0</td>\n",
       "      <td>2016.0</td>\n",
       "      <td>NaN</td>\n",
       "      <td>90</td>\n",
       "      <td>Drama</td>\n",
       "    </tr>\n",
       "    <tr>\n",
       "      <th>3</th>\n",
       "      <td>tt0069049</td>\n",
       "      <td>movie</td>\n",
       "      <td>The Other Side of the Wind</td>\n",
       "      <td>The Other Side of the Wind</td>\n",
       "      <td>0</td>\n",
       "      <td>2018.0</td>\n",
       "      <td>NaN</td>\n",
       "      <td>122</td>\n",
       "      <td>Drama</td>\n",
       "    </tr>\n",
       "    <tr>\n",
       "      <th>4</th>\n",
       "      <td>tt0082328</td>\n",
       "      <td>movie</td>\n",
       "      <td>Embodiment of Evil</td>\n",
       "      <td>Encarnação do Demônio</td>\n",
       "      <td>0</td>\n",
       "      <td>2008.0</td>\n",
       "      <td>NaN</td>\n",
       "      <td>94</td>\n",
       "      <td>Horror</td>\n",
       "    </tr>\n",
       "  </tbody>\n",
       "</table>\n",
       "</div>"
      ],
      "text/plain": [
       "      tconst titleType                                       primaryTitle  \\\n",
       "0  tt0035423     movie                                     Kate & Leopold   \n",
       "1  tt0062336     movie  The Tango of the Widower and Its Distorting Mi...   \n",
       "2  tt0068865     movie                                Lives of Performers   \n",
       "3  tt0069049     movie                         The Other Side of the Wind   \n",
       "4  tt0082328     movie                                 Embodiment of Evil   \n",
       "\n",
       "                               originalTitle  isAdult  startYear  endYear  \\\n",
       "0                             Kate & Leopold        0     2001.0      NaN   \n",
       "1  El tango del viudo y su espejo deformante        0     2020.0      NaN   \n",
       "2                        Lives of Performers        0     2016.0      NaN   \n",
       "3                 The Other Side of the Wind        0     2018.0      NaN   \n",
       "4                      Encarnação do Demônio        0     2008.0      NaN   \n",
       "\n",
       "   runtimeMinutes                  genres  \n",
       "0             118  Comedy,Fantasy,Romance  \n",
       "1              70                   Drama  \n",
       "2              90                   Drama  \n",
       "3             122                   Drama  \n",
       "4              94                  Horror  "
      ]
     },
     "execution_count": 6,
     "metadata": {},
     "output_type": "execute_result"
    }
   ],
   "source": [
    "# Reading in the basics df\n",
    "dfbasics = pd.read_csv(\"Data/title_basics_combined.csv.gz\")\n",
    "dfbasics.head()"
   ]
  },
  {
   "cell_type": "code",
   "execution_count": 11,
   "id": "b62e56e7-c730-4f53-93e3-c6baa0cafd86",
   "metadata": {},
   "outputs": [],
   "source": [
    "# creating list of years to get and an errors list\n",
    "yearsneeded = [2010,2011,2012,2013,2014,2015,2016,2017,2018,]\n",
    "errors = []"
   ]
  },
  {
   "cell_type": "code",
   "execution_count": null,
   "id": "82aaa4cc-c82c-4c33-89d9-93f0feae90ee",
   "metadata": {},
   "outputs": [],
   "source": [
    "# start of outer loop\n",
    "for YEAR in tqdm_notebook(yearsneeded, desc='YEARS', position=0):\n",
    "    \n",
    "    JSON_FILE = f'{FOLDER}tmdb_api_results_{YEAR}.json'\n",
    "    file_exists = os.path.isfile(JSON_FILE)\n",
    "    \n",
    "    # If it does not exist: create it\n",
    "    if file_exists == False:\n",
    "        \n",
    "    # save an empty dict with just \"imdb_id\" to the new json file.\n",
    "        with open(JSON_FILE,'w') as f:\n",
    "            json.dump([{'imdb_id':0}],f)\n",
    "            \n",
    "    #Saving new year as the current df\n",
    "    df = dfbasics.loc[dfbasics['startYear']==YEAR].copy()\n",
    "\n",
    "    # saving movie ids to list\n",
    "    movie_ids = df['tconst'].copy()\n",
    "    \n",
    "    # Load existing data from json into a dataframe called \"previous_df\"\n",
    "    previous_df = pd.read_json(JSON_FILE)\n",
    "    \n",
    "    # filter out any ids that are already in the JSON_FILE\n",
    "    movie_ids_to_get = movie_ids[~movie_ids.isin(previous_df['imdb_id'])]\n",
    "\n",
    "    #start of inner loop\n",
    "    for movie_id in tqdm_notebook(movie_ids_to_get,\n",
    "                                  desc=f'Movies from {YEAR}',\n",
    "                                  position=1,\n",
    "                                  leave=True):\n",
    "        try:\n",
    "            # Retrieving the data for the movie id\n",
    "            temp = get_movie_with_rating(movie_id)  \n",
    "            # Appending the results to existing file using the predefined function in notebook\n",
    "            write_json(temp,JSON_FILE)\n",
    "            # Short 20 ms sleep to prevent overwhelming server\n",
    "            time.sleep(0.02)\n",
    "            \n",
    "        except Exception as e:\n",
    "            errors.append([movie_id, e])\n",
    "\n",
    "    final_year_df = pd.read_json(JSON_FILE)\n",
    "    final_year_df.to_csv(f\"{FOLDER}final_tmdb_data_{YEAR}.csv.gz\", compression=\"gzip\", index=False)"
   ]
  },
  {
   "cell_type": "code",
   "execution_count": null,
   "id": "b03c1a1c-5b22-4cda-95d5-4c625c54baca",
   "metadata": {},
   "outputs": [],
   "source": [
    "print(f\"- Total errors encountered: {len(errors)}\")"
   ]
  },
  {
   "cell_type": "markdown",
   "id": "d1f474d5-3851-47a1-95cd-b5ac5415eae8",
   "metadata": {},
   "source": [
    "# Combining all files"
   ]
  },
  {
   "cell_type": "code",
   "execution_count": 15,
   "id": "23b25a3d-9ac9-4733-9de8-75a3208d4b9a",
   "metadata": {},
   "outputs": [
    {
     "data": {
      "text/plain": [
       "['Data\\\\final_tmdb_data_2010.csv.gz',\n",
       " 'Data\\\\final_tmdb_data_2011.csv.gz',\n",
       " 'Data\\\\final_tmdb_data_2012.csv.gz',\n",
       " 'Data\\\\final_tmdb_data_2013.csv.gz',\n",
       " 'Data\\\\final_tmdb_data_2014.csv.gz',\n",
       " 'Data\\\\final_tmdb_data_2015.csv.gz',\n",
       " 'Data\\\\final_tmdb_data_2016.csv.gz',\n",
       " 'Data\\\\final_tmdb_data_2017.csv.gz',\n",
       " 'Data\\\\final_tmdb_data_2018.csv.gz',\n",
       " 'Data\\\\final_tmdb_data_2019.csv.gz']"
      ]
     },
     "execution_count": 15,
     "metadata": {},
     "output_type": "execute_result"
    }
   ],
   "source": [
    "# gettng list of files to combine\n",
    "q = \"Data/final_tmdb_data_201*.csv.gz\"\n",
    "chunked_files = glob.glob(q)\n",
    "chunked_files[:10]"
   ]
  },
  {
   "cell_type": "code",
   "execution_count": 16,
   "id": "b3fa46b8-284e-4ec9-bd91-a6b961564f31",
   "metadata": {},
   "outputs": [
    {
     "data": {
      "text/html": [
       "<div>\n",
       "<style scoped>\n",
       "    .dataframe tbody tr th:only-of-type {\n",
       "        vertical-align: middle;\n",
       "    }\n",
       "\n",
       "    .dataframe tbody tr th {\n",
       "        vertical-align: top;\n",
       "    }\n",
       "\n",
       "    .dataframe thead th {\n",
       "        text-align: right;\n",
       "    }\n",
       "</style>\n",
       "<table border=\"1\" class=\"dataframe\">\n",
       "  <thead>\n",
       "    <tr style=\"text-align: right;\">\n",
       "      <th></th>\n",
       "      <th>adult</th>\n",
       "      <th>backdrop_path</th>\n",
       "      <th>belongs_to_collection</th>\n",
       "      <th>budget</th>\n",
       "      <th>genres</th>\n",
       "      <th>homepage</th>\n",
       "      <th>id</th>\n",
       "      <th>original_language</th>\n",
       "      <th>original_title</th>\n",
       "      <th>overview</th>\n",
       "      <th>...</th>\n",
       "      <th>revenue</th>\n",
       "      <th>runtime</th>\n",
       "      <th>spoken_languages</th>\n",
       "      <th>status</th>\n",
       "      <th>tagline</th>\n",
       "      <th>title</th>\n",
       "      <th>video</th>\n",
       "      <th>vote_average</th>\n",
       "      <th>vote_count</th>\n",
       "      <th>certification</th>\n",
       "    </tr>\n",
       "    <tr>\n",
       "      <th>imdb_id</th>\n",
       "      <th></th>\n",
       "      <th></th>\n",
       "      <th></th>\n",
       "      <th></th>\n",
       "      <th></th>\n",
       "      <th></th>\n",
       "      <th></th>\n",
       "      <th></th>\n",
       "      <th></th>\n",
       "      <th></th>\n",
       "      <th></th>\n",
       "      <th></th>\n",
       "      <th></th>\n",
       "      <th></th>\n",
       "      <th></th>\n",
       "      <th></th>\n",
       "      <th></th>\n",
       "      <th></th>\n",
       "      <th></th>\n",
       "      <th></th>\n",
       "      <th></th>\n",
       "    </tr>\n",
       "  </thead>\n",
       "  <tbody>\n",
       "    <tr>\n",
       "      <th>0</th>\n",
       "      <td>NaN</td>\n",
       "      <td>NaN</td>\n",
       "      <td>NaN</td>\n",
       "      <td>NaN</td>\n",
       "      <td>NaN</td>\n",
       "      <td>NaN</td>\n",
       "      <td>NaN</td>\n",
       "      <td>NaN</td>\n",
       "      <td>NaN</td>\n",
       "      <td>NaN</td>\n",
       "      <td>...</td>\n",
       "      <td>NaN</td>\n",
       "      <td>NaN</td>\n",
       "      <td>NaN</td>\n",
       "      <td>NaN</td>\n",
       "      <td>NaN</td>\n",
       "      <td>NaN</td>\n",
       "      <td>NaN</td>\n",
       "      <td>NaN</td>\n",
       "      <td>NaN</td>\n",
       "      <td>NaN</td>\n",
       "    </tr>\n",
       "    <tr>\n",
       "      <th>tt0146592</th>\n",
       "      <td>0.0</td>\n",
       "      <td>NaN</td>\n",
       "      <td>NaN</td>\n",
       "      <td>0.0</td>\n",
       "      <td>[{'id': 18, 'name': 'Drama'}]</td>\n",
       "      <td>NaN</td>\n",
       "      <td>163942.0</td>\n",
       "      <td>hu</td>\n",
       "      <td>Pál Adrienn</td>\n",
       "      <td>Piroska is an overweight, alienated nurse who ...</td>\n",
       "      <td>...</td>\n",
       "      <td>0.0</td>\n",
       "      <td>136.0</td>\n",
       "      <td>[{'english_name': 'Hungarian', 'iso_639_1': 'h...</td>\n",
       "      <td>Released</td>\n",
       "      <td>NaN</td>\n",
       "      <td>Adrienn Pál</td>\n",
       "      <td>0.0</td>\n",
       "      <td>5.7</td>\n",
       "      <td>7.0</td>\n",
       "      <td>NaN</td>\n",
       "    </tr>\n",
       "    <tr>\n",
       "      <th>tt0154039</th>\n",
       "      <td>0.0</td>\n",
       "      <td>/anEsO8XT4wK7G9ScZjfvDeCztNg.jpg</td>\n",
       "      <td>NaN</td>\n",
       "      <td>0.0</td>\n",
       "      <td>[{'id': 18, 'name': 'Drama'}, {'id': 36, 'name...</td>\n",
       "      <td>NaN</td>\n",
       "      <td>260823.0</td>\n",
       "      <td>hu</td>\n",
       "      <td>Oda az igazság</td>\n",
       "      <td>Concerning the Mátyás era in Hungarian history...</td>\n",
       "      <td>...</td>\n",
       "      <td>0.0</td>\n",
       "      <td>100.0</td>\n",
       "      <td>[{'english_name': 'Hungarian', 'iso_639_1': 'h...</td>\n",
       "      <td>Released</td>\n",
       "      <td>NaN</td>\n",
       "      <td>So Much for Justice!</td>\n",
       "      <td>0.0</td>\n",
       "      <td>4.0</td>\n",
       "      <td>1.0</td>\n",
       "      <td>NaN</td>\n",
       "    </tr>\n",
       "    <tr>\n",
       "      <th>tt0162942</th>\n",
       "      <td>0.0</td>\n",
       "      <td>NaN</td>\n",
       "      <td>NaN</td>\n",
       "      <td>0.0</td>\n",
       "      <td>[{'id': 18, 'name': 'Drama'}]</td>\n",
       "      <td>NaN</td>\n",
       "      <td>61200.0</td>\n",
       "      <td>en</td>\n",
       "      <td>A zöld sárkány gyermekei</td>\n",
       "      <td>Mate, a lonely, divorced real estate agent is ...</td>\n",
       "      <td>...</td>\n",
       "      <td>0.0</td>\n",
       "      <td>0.0</td>\n",
       "      <td>[]</td>\n",
       "      <td>Released</td>\n",
       "      <td>NaN</td>\n",
       "      <td>Children of the Green Dragon</td>\n",
       "      <td>0.0</td>\n",
       "      <td>5.7</td>\n",
       "      <td>3.0</td>\n",
       "      <td>NaN</td>\n",
       "    </tr>\n",
       "    <tr>\n",
       "      <th>tt0312305</th>\n",
       "      <td>0.0</td>\n",
       "      <td>/lqUbt2cy2pnqvxKefbQAtxLS0WA.jpg</td>\n",
       "      <td>NaN</td>\n",
       "      <td>0.0</td>\n",
       "      <td>[{'id': 10751, 'name': 'Family'}, {'id': 16, '...</td>\n",
       "      <td>http://www.qqthemovie.com/</td>\n",
       "      <td>23738.0</td>\n",
       "      <td>en</td>\n",
       "      <td>Quantum Quest: A Cassini Space Odyssey</td>\n",
       "      <td>Dave, a young photon, who is forced out of the...</td>\n",
       "      <td>...</td>\n",
       "      <td>0.0</td>\n",
       "      <td>45.0</td>\n",
       "      <td>[{'english_name': 'English', 'iso_639_1': 'en'...</td>\n",
       "      <td>Released</td>\n",
       "      <td>NaN</td>\n",
       "      <td>Quantum Quest: A Cassini Space Odyssey</td>\n",
       "      <td>0.0</td>\n",
       "      <td>7.9</td>\n",
       "      <td>8.0</td>\n",
       "      <td>NaN</td>\n",
       "    </tr>\n",
       "    <tr>\n",
       "      <th>...</th>\n",
       "      <td>...</td>\n",
       "      <td>...</td>\n",
       "      <td>...</td>\n",
       "      <td>...</td>\n",
       "      <td>...</td>\n",
       "      <td>...</td>\n",
       "      <td>...</td>\n",
       "      <td>...</td>\n",
       "      <td>...</td>\n",
       "      <td>...</td>\n",
       "      <td>...</td>\n",
       "      <td>...</td>\n",
       "      <td>...</td>\n",
       "      <td>...</td>\n",
       "      <td>...</td>\n",
       "      <td>...</td>\n",
       "      <td>...</td>\n",
       "      <td>...</td>\n",
       "      <td>...</td>\n",
       "      <td>...</td>\n",
       "      <td>...</td>\n",
       "    </tr>\n",
       "    <tr>\n",
       "      <th>tt9913872</th>\n",
       "      <td>0.0</td>\n",
       "      <td>/a0kySBmMZ77AqmNA3pDu45GsbCp.jpg</td>\n",
       "      <td>NaN</td>\n",
       "      <td>0.0</td>\n",
       "      <td>[{'id': 27, 'name': 'Horror'}]</td>\n",
       "      <td>NaN</td>\n",
       "      <td>800030.0</td>\n",
       "      <td>es</td>\n",
       "      <td>De la piel del Diablo</td>\n",
       "      <td>NaN</td>\n",
       "      <td>...</td>\n",
       "      <td>0.0</td>\n",
       "      <td>0.0</td>\n",
       "      <td>[]</td>\n",
       "      <td>Released</td>\n",
       "      <td>NaN</td>\n",
       "      <td>De la piel del Diablo</td>\n",
       "      <td>0.0</td>\n",
       "      <td>8.2</td>\n",
       "      <td>3.0</td>\n",
       "      <td>NaN</td>\n",
       "    </tr>\n",
       "    <tr>\n",
       "      <th>tt9914942</th>\n",
       "      <td>0.0</td>\n",
       "      <td>/tjHUeULyw2vtS1DXFp0OHfhUzRX.jpg</td>\n",
       "      <td>NaN</td>\n",
       "      <td>0.0</td>\n",
       "      <td>[{'id': 18, 'name': 'Drama'}, {'id': 10749, 'n...</td>\n",
       "      <td>NaN</td>\n",
       "      <td>598553.0</td>\n",
       "      <td>ca</td>\n",
       "      <td>La vida sense la Sara Amat</td>\n",
       "      <td>Pep, a 13-year-old boy, is in love with a girl...</td>\n",
       "      <td>...</td>\n",
       "      <td>0.0</td>\n",
       "      <td>71.0</td>\n",
       "      <td>[{'english_name': 'Catalan', 'iso_639_1': 'ca'...</td>\n",
       "      <td>Released</td>\n",
       "      <td>NaN</td>\n",
       "      <td>Life without Sara Amat</td>\n",
       "      <td>0.0</td>\n",
       "      <td>7.7</td>\n",
       "      <td>8.0</td>\n",
       "      <td>NaN</td>\n",
       "    </tr>\n",
       "    <tr>\n",
       "      <th>tt9915790</th>\n",
       "      <td>0.0</td>\n",
       "      <td>/9Zqup9L9zGMyDijAeKFkelcknp.jpg</td>\n",
       "      <td>NaN</td>\n",
       "      <td>0.0</td>\n",
       "      <td>[{'id': 18, 'name': 'Drama'}]</td>\n",
       "      <td>NaN</td>\n",
       "      <td>591918.0</td>\n",
       "      <td>bn</td>\n",
       "      <td>Bobbyr Bondhura</td>\n",
       "      <td>Little Bobby goes missing after the separation...</td>\n",
       "      <td>...</td>\n",
       "      <td>0.0</td>\n",
       "      <td>106.0</td>\n",
       "      <td>[]</td>\n",
       "      <td>Released</td>\n",
       "      <td>NaN</td>\n",
       "      <td>Bobbyr Bondhura</td>\n",
       "      <td>0.0</td>\n",
       "      <td>0.0</td>\n",
       "      <td>0.0</td>\n",
       "      <td>NaN</td>\n",
       "    </tr>\n",
       "    <tr>\n",
       "      <th>tt9915872</th>\n",
       "      <td>0.0</td>\n",
       "      <td>NaN</td>\n",
       "      <td>NaN</td>\n",
       "      <td>0.0</td>\n",
       "      <td>[]</td>\n",
       "      <td>NaN</td>\n",
       "      <td>897433.0</td>\n",
       "      <td>en</td>\n",
       "      <td>The Last White Witch</td>\n",
       "      <td>One day, a charming and mystical girl, Fuka, a...</td>\n",
       "      <td>...</td>\n",
       "      <td>0.0</td>\n",
       "      <td>97.0</td>\n",
       "      <td>[]</td>\n",
       "      <td>Released</td>\n",
       "      <td>NaN</td>\n",
       "      <td>The Last White Witch</td>\n",
       "      <td>0.0</td>\n",
       "      <td>0.0</td>\n",
       "      <td>0.0</td>\n",
       "      <td>NaN</td>\n",
       "    </tr>\n",
       "    <tr>\n",
       "      <th>tt9916538</th>\n",
       "      <td>0.0</td>\n",
       "      <td>NaN</td>\n",
       "      <td>NaN</td>\n",
       "      <td>0.0</td>\n",
       "      <td>[{'id': 18, 'name': 'Drama'}]</td>\n",
       "      <td>NaN</td>\n",
       "      <td>586983.0</td>\n",
       "      <td>id</td>\n",
       "      <td>Kuambil Lagi Hatiku</td>\n",
       "      <td>Agra City, India, will be the witness to the m...</td>\n",
       "      <td>...</td>\n",
       "      <td>0.0</td>\n",
       "      <td>123.0</td>\n",
       "      <td>[{'english_name': 'Indonesian', 'iso_639_1': '...</td>\n",
       "      <td>Released</td>\n",
       "      <td>NaN</td>\n",
       "      <td>Kuambil Lagi Hatiku</td>\n",
       "      <td>0.0</td>\n",
       "      <td>0.0</td>\n",
       "      <td>0.0</td>\n",
       "      <td>NaN</td>\n",
       "    </tr>\n",
       "  </tbody>\n",
       "</table>\n",
       "<p>55090 rows × 25 columns</p>\n",
       "</div>"
      ],
      "text/plain": [
       "           adult                     backdrop_path belongs_to_collection  \\\n",
       "imdb_id                                                                    \n",
       "0            NaN                               NaN                   NaN   \n",
       "tt0146592    0.0                               NaN                   NaN   \n",
       "tt0154039    0.0  /anEsO8XT4wK7G9ScZjfvDeCztNg.jpg                   NaN   \n",
       "tt0162942    0.0                               NaN                   NaN   \n",
       "tt0312305    0.0  /lqUbt2cy2pnqvxKefbQAtxLS0WA.jpg                   NaN   \n",
       "...          ...                               ...                   ...   \n",
       "tt9913872    0.0  /a0kySBmMZ77AqmNA3pDu45GsbCp.jpg                   NaN   \n",
       "tt9914942    0.0  /tjHUeULyw2vtS1DXFp0OHfhUzRX.jpg                   NaN   \n",
       "tt9915790    0.0   /9Zqup9L9zGMyDijAeKFkelcknp.jpg                   NaN   \n",
       "tt9915872    0.0                               NaN                   NaN   \n",
       "tt9916538    0.0                               NaN                   NaN   \n",
       "\n",
       "           budget                                             genres  \\\n",
       "imdb_id                                                                \n",
       "0             NaN                                                NaN   \n",
       "tt0146592     0.0                      [{'id': 18, 'name': 'Drama'}]   \n",
       "tt0154039     0.0  [{'id': 18, 'name': 'Drama'}, {'id': 36, 'name...   \n",
       "tt0162942     0.0                      [{'id': 18, 'name': 'Drama'}]   \n",
       "tt0312305     0.0  [{'id': 10751, 'name': 'Family'}, {'id': 16, '...   \n",
       "...           ...                                                ...   \n",
       "tt9913872     0.0                     [{'id': 27, 'name': 'Horror'}]   \n",
       "tt9914942     0.0  [{'id': 18, 'name': 'Drama'}, {'id': 10749, 'n...   \n",
       "tt9915790     0.0                      [{'id': 18, 'name': 'Drama'}]   \n",
       "tt9915872     0.0                                                 []   \n",
       "tt9916538     0.0                      [{'id': 18, 'name': 'Drama'}]   \n",
       "\n",
       "                             homepage        id original_language  \\\n",
       "imdb_id                                                             \n",
       "0                                 NaN       NaN               NaN   \n",
       "tt0146592                         NaN  163942.0                hu   \n",
       "tt0154039                         NaN  260823.0                hu   \n",
       "tt0162942                         NaN   61200.0                en   \n",
       "tt0312305  http://www.qqthemovie.com/   23738.0                en   \n",
       "...                               ...       ...               ...   \n",
       "tt9913872                         NaN  800030.0                es   \n",
       "tt9914942                         NaN  598553.0                ca   \n",
       "tt9915790                         NaN  591918.0                bn   \n",
       "tt9915872                         NaN  897433.0                en   \n",
       "tt9916538                         NaN  586983.0                id   \n",
       "\n",
       "                                   original_title  \\\n",
       "imdb_id                                             \n",
       "0                                             NaN   \n",
       "tt0146592                             Pál Adrienn   \n",
       "tt0154039                          Oda az igazság   \n",
       "tt0162942                A zöld sárkány gyermekei   \n",
       "tt0312305  Quantum Quest: A Cassini Space Odyssey   \n",
       "...                                           ...   \n",
       "tt9913872                   De la piel del Diablo   \n",
       "tt9914942              La vida sense la Sara Amat   \n",
       "tt9915790                         Bobbyr Bondhura   \n",
       "tt9915872                    The Last White Witch   \n",
       "tt9916538                     Kuambil Lagi Hatiku   \n",
       "\n",
       "                                                    overview  ...  revenue  \\\n",
       "imdb_id                                                       ...            \n",
       "0                                                        NaN  ...      NaN   \n",
       "tt0146592  Piroska is an overweight, alienated nurse who ...  ...      0.0   \n",
       "tt0154039  Concerning the Mátyás era in Hungarian history...  ...      0.0   \n",
       "tt0162942  Mate, a lonely, divorced real estate agent is ...  ...      0.0   \n",
       "tt0312305  Dave, a young photon, who is forced out of the...  ...      0.0   \n",
       "...                                                      ...  ...      ...   \n",
       "tt9913872                                                NaN  ...      0.0   \n",
       "tt9914942  Pep, a 13-year-old boy, is in love with a girl...  ...      0.0   \n",
       "tt9915790  Little Bobby goes missing after the separation...  ...      0.0   \n",
       "tt9915872  One day, a charming and mystical girl, Fuka, a...  ...      0.0   \n",
       "tt9916538  Agra City, India, will be the witness to the m...  ...      0.0   \n",
       "\n",
       "          runtime                                   spoken_languages  \\\n",
       "imdb_id                                                                \n",
       "0             NaN                                                NaN   \n",
       "tt0146592   136.0  [{'english_name': 'Hungarian', 'iso_639_1': 'h...   \n",
       "tt0154039   100.0  [{'english_name': 'Hungarian', 'iso_639_1': 'h...   \n",
       "tt0162942     0.0                                                 []   \n",
       "tt0312305    45.0  [{'english_name': 'English', 'iso_639_1': 'en'...   \n",
       "...           ...                                                ...   \n",
       "tt9913872     0.0                                                 []   \n",
       "tt9914942    71.0  [{'english_name': 'Catalan', 'iso_639_1': 'ca'...   \n",
       "tt9915790   106.0                                                 []   \n",
       "tt9915872    97.0                                                 []   \n",
       "tt9916538   123.0  [{'english_name': 'Indonesian', 'iso_639_1': '...   \n",
       "\n",
       "             status tagline                                   title  video  \\\n",
       "imdb_id                                                                      \n",
       "0               NaN     NaN                                     NaN    NaN   \n",
       "tt0146592  Released     NaN                             Adrienn Pál    0.0   \n",
       "tt0154039  Released     NaN                    So Much for Justice!    0.0   \n",
       "tt0162942  Released     NaN            Children of the Green Dragon    0.0   \n",
       "tt0312305  Released     NaN  Quantum Quest: A Cassini Space Odyssey    0.0   \n",
       "...             ...     ...                                     ...    ...   \n",
       "tt9913872  Released     NaN                   De la piel del Diablo    0.0   \n",
       "tt9914942  Released     NaN                  Life without Sara Amat    0.0   \n",
       "tt9915790  Released     NaN                         Bobbyr Bondhura    0.0   \n",
       "tt9915872  Released     NaN                    The Last White Witch    0.0   \n",
       "tt9916538  Released     NaN                     Kuambil Lagi Hatiku    0.0   \n",
       "\n",
       "          vote_average vote_count certification  \n",
       "imdb_id                                          \n",
       "0                  NaN        NaN           NaN  \n",
       "tt0146592          5.7        7.0           NaN  \n",
       "tt0154039          4.0        1.0           NaN  \n",
       "tt0162942          5.7        3.0           NaN  \n",
       "tt0312305          7.9        8.0           NaN  \n",
       "...                ...        ...           ...  \n",
       "tt9913872          8.2        3.0           NaN  \n",
       "tt9914942          7.7        8.0           NaN  \n",
       "tt9915790          0.0        0.0           NaN  \n",
       "tt9915872          0.0        0.0           NaN  \n",
       "tt9916538          0.0        0.0           NaN  \n",
       "\n",
       "[55090 rows x 25 columns]"
      ]
     },
     "execution_count": 16,
     "metadata": {},
     "output_type": "execute_result"
    }
   ],
   "source": [
    "df_combinedapires = pd.concat([pd.read_csv(file, index_col=0) for file in chunked_files])\n",
    "df_combinedapires"
   ]
  },
  {
   "cell_type": "code",
   "execution_count": 19,
   "id": "80ab8674-3fad-4574-9855-6f5bc8d3a384",
   "metadata": {},
   "outputs": [],
   "source": [
    "# Saving the combined dataframe as a CSV file\n",
    "final_fname ='Data/tmdb_results_2010_2019_combined.csv.gz'\n",
    "df_combinedapires.to_csv(final_fname, compression='gzip', index=True)"
   ]
  },
  {
   "cell_type": "code",
   "execution_count": null,
   "id": "2fe408cf-da90-4086-b50b-65d3a3a8fec4",
   "metadata": {},
   "outputs": [],
   "source": []
  }
 ],
 "metadata": {
  "kernelspec": {
   "display_name": "Python (dojo-env)",
   "language": "python",
   "name": "dojo-env"
  },
  "language_info": {
   "codemirror_mode": {
    "name": "ipython",
    "version": 3
   },
   "file_extension": ".py",
   "mimetype": "text/x-python",
   "name": "python",
   "nbconvert_exporter": "python",
   "pygments_lexer": "ipython3",
   "version": "3.10.10"
  },
  "widgets": {
   "application/vnd.jupyter.widget-state+json": {
    "state": {
     "039807ca18af4e88a095e69965175daa": {
      "model_module": "@jupyter-widgets/controls",
      "model_module_version": "2.0.0",
      "model_name": "FloatProgressModel",
      "state": {
       "bar_style": "danger",
       "layout": "IPY_MODEL_36ebb0908e5d45bfb8aa5a46681f3a60",
       "max": 2091,
       "style": "IPY_MODEL_c8c623d0bb0a439180ac67c745174e61",
       "value": 5
      }
     },
     "0a0050bbe3e848bd8cec00fa41b913c5": {
      "model_module": "@jupyter-widgets/controls",
      "model_module_version": "2.0.0",
      "model_name": "FloatProgressModel",
      "state": {
       "bar_style": "danger",
       "layout": "IPY_MODEL_f26806a520214e3cb8bce89da8f38f86",
       "max": 9,
       "style": "IPY_MODEL_cb1d900e1acb495e806a74563a6d6966"
      }
     },
     "1352760833fa4c769f8dee6a22781beb": {
      "model_module": "@jupyter-widgets/controls",
      "model_module_version": "2.0.0",
      "model_name": "HTMLStyleModel",
      "state": {
       "description_width": "",
       "font_size": null,
       "text_color": null
      }
     },
     "13c99138c7524f23be6d7ca2a90354ad": {
      "model_module": "@jupyter-widgets/controls",
      "model_module_version": "2.0.0",
      "model_name": "HTMLModel",
      "state": {
       "layout": "IPY_MODEL_ca250a2d0a6a4dfaa42f37b1ceebea43",
       "style": "IPY_MODEL_1352760833fa4c769f8dee6a22781beb",
       "value": " 1/1 [2:11:40&lt;00:00, 7900.74s/it]"
      }
     },
     "157b0ecec4704214b20ab7d151aefb94": {
      "model_module": "@jupyter-widgets/controls",
      "model_module_version": "2.0.0",
      "model_name": "ProgressStyleModel",
      "state": {
       "description_width": ""
      }
     },
     "19a423c2293b4115bc586c834f2d10a8": {
      "model_module": "@jupyter-widgets/controls",
      "model_module_version": "2.0.0",
      "model_name": "ProgressStyleModel",
      "state": {
       "description_width": ""
      }
     },
     "1a0ec3eaf1d0440e89a56e49353b980e": {
      "model_module": "@jupyter-widgets/base",
      "model_module_version": "2.0.0",
      "model_name": "LayoutModel",
      "state": {}
     },
     "236e717176254cd98b6653907b6903dc": {
      "model_module": "@jupyter-widgets/base",
      "model_module_version": "2.0.0",
      "model_name": "LayoutModel",
      "state": {}
     },
     "2686d3fabcb74897ab5d4d8274ffdeb6": {
      "model_module": "@jupyter-widgets/base",
      "model_module_version": "2.0.0",
      "model_name": "LayoutModel",
      "state": {}
     },
     "2874cccc25424052a02aad2c8c460643": {
      "model_module": "@jupyter-widgets/base",
      "model_module_version": "2.0.0",
      "model_name": "LayoutModel",
      "state": {}
     },
     "2a33fddd49724fe7a1b5a5a0589ae453": {
      "model_module": "@jupyter-widgets/base",
      "model_module_version": "2.0.0",
      "model_name": "LayoutModel",
      "state": {}
     },
     "2b2915cd8ed440809f0ceebbc58322f8": {
      "model_module": "@jupyter-widgets/controls",
      "model_module_version": "2.0.0",
      "model_name": "HTMLModel",
      "state": {
       "layout": "IPY_MODEL_b6209f857d4f461c956132cb85fc44dd",
       "style": "IPY_MODEL_5b99ab6a29414b8b9197ea400c207b23",
       "value": "YEARS:   0%"
      }
     },
     "2d39a2a4582a415fa8ea28eee4fd309b": {
      "model_module": "@jupyter-widgets/controls",
      "model_module_version": "2.0.0",
      "model_name": "ProgressStyleModel",
      "state": {
       "description_width": ""
      }
     },
     "2eebdff69a4d46a5ae7479057df3c671": {
      "model_module": "@jupyter-widgets/controls",
      "model_module_version": "2.0.0",
      "model_name": "HTMLStyleModel",
      "state": {
       "description_width": "",
       "font_size": null,
       "text_color": null
      }
     },
     "307e5effb91c43a39f71a8acc8251d81": {
      "model_module": "@jupyter-widgets/controls",
      "model_module_version": "2.0.0",
      "model_name": "FloatProgressModel",
      "state": {
       "bar_style": "danger",
       "layout": "IPY_MODEL_f2d8d69bd99d4f3688f76c5acaf135b2",
       "max": 2091,
       "style": "IPY_MODEL_9f2f9875703843f58d7734daae36f981",
       "value": 75
      }
     },
     "31cb71a2c10c491db4fbea10bbb317c1": {
      "model_module": "@jupyter-widgets/controls",
      "model_module_version": "2.0.0",
      "model_name": "HTMLStyleModel",
      "state": {
       "description_width": "",
       "font_size": null,
       "text_color": null
      }
     },
     "32d682e7dc6e43d88746cbf62a08897f": {
      "model_module": "@jupyter-widgets/base",
      "model_module_version": "2.0.0",
      "model_name": "LayoutModel",
      "state": {}
     },
     "360436377c15410ca27fa621a6304f24": {
      "model_module": "@jupyter-widgets/controls",
      "model_module_version": "2.0.0",
      "model_name": "HTMLStyleModel",
      "state": {
       "description_width": "",
       "font_size": null,
       "text_color": null
      }
     },
     "36ebb0908e5d45bfb8aa5a46681f3a60": {
      "model_module": "@jupyter-widgets/base",
      "model_module_version": "2.0.0",
      "model_name": "LayoutModel",
      "state": {}
     },
     "4bd5726795dc4ae0a09a0cb26af03805": {
      "model_module": "@jupyter-widgets/controls",
      "model_module_version": "2.0.0",
      "model_name": "HTMLStyleModel",
      "state": {
       "description_width": "",
       "font_size": null,
       "text_color": null
      }
     },
     "5a91961e45904237911f7b7a87d572c3": {
      "model_module": "@jupyter-widgets/controls",
      "model_module_version": "2.0.0",
      "model_name": "HTMLStyleModel",
      "state": {
       "description_width": "",
       "font_size": null,
       "text_color": null
      }
     },
     "5b99ab6a29414b8b9197ea400c207b23": {
      "model_module": "@jupyter-widgets/controls",
      "model_module_version": "2.0.0",
      "model_name": "HTMLStyleModel",
      "state": {
       "description_width": "",
       "font_size": null,
       "text_color": null
      }
     },
     "5c32f5c89a114a1ebf1e951957d45ec1": {
      "model_module": "@jupyter-widgets/controls",
      "model_module_version": "2.0.0",
      "model_name": "HTMLStyleModel",
      "state": {
       "description_width": "",
       "font_size": null,
       "text_color": null
      }
     },
     "5d11ccde1d514e1890ac3a2658ef83d1": {
      "model_module": "@jupyter-widgets/base",
      "model_module_version": "2.0.0",
      "model_name": "LayoutModel",
      "state": {}
     },
     "628b608314364d439deb009e4f13e1be": {
      "model_module": "@jupyter-widgets/controls",
      "model_module_version": "2.0.0",
      "model_name": "HBoxModel",
      "state": {
       "children": [
        "IPY_MODEL_83590035c7f941c7866436c692116b39",
        "IPY_MODEL_ba0cadda7f46418fb8eac53a7b721353",
        "IPY_MODEL_13c99138c7524f23be6d7ca2a90354ad"
       ],
       "layout": "IPY_MODEL_236e717176254cd98b6653907b6903dc"
      }
     },
     "7124ed14f8ec4cf8af4fdbe1564f8e7e": {
      "model_module": "@jupyter-widgets/controls",
      "model_module_version": "2.0.0",
      "model_name": "HTMLModel",
      "state": {
       "layout": "IPY_MODEL_afc0889f780e4d9ba413a099732b010a",
       "style": "IPY_MODEL_31cb71a2c10c491db4fbea10bbb317c1",
       "value": "Movies from 2019: 100%"
      }
     },
     "7b04cb3b7e52425db770a56b54f6cf82": {
      "model_module": "@jupyter-widgets/base",
      "model_module_version": "2.0.0",
      "model_name": "LayoutModel",
      "state": {}
     },
     "7ba1e9e0631c40ca9c20967987939b98": {
      "model_module": "@jupyter-widgets/controls",
      "model_module_version": "2.0.0",
      "model_name": "HTMLModel",
      "state": {
       "layout": "IPY_MODEL_1a0ec3eaf1d0440e89a56e49353b980e",
       "style": "IPY_MODEL_e225f3bb8ebc4abfa808caf09279b3ce",
       "value": "Movies from 2010:   0%"
      }
     },
     "7cfa9eca3aa44e5a958afad1db4c6e32": {
      "model_module": "@jupyter-widgets/controls",
      "model_module_version": "2.0.0",
      "model_name": "HTMLModel",
      "state": {
       "layout": "IPY_MODEL_f91fbe9b20d644cfba803e81f5b37a73",
       "style": "IPY_MODEL_8e12439ec1174be3906fa8d27445d21f",
       "value": "Movies from 2010:   4%"
      }
     },
     "83590035c7f941c7866436c692116b39": {
      "model_module": "@jupyter-widgets/controls",
      "model_module_version": "2.0.0",
      "model_name": "HTMLModel",
      "state": {
       "layout": "IPY_MODEL_d1d86cbc05a540d7a70c192206d6d8d1",
       "style": "IPY_MODEL_4bd5726795dc4ae0a09a0cb26af03805",
       "value": "YEARS: 100%"
      }
     },
     "861e8a64970a42a9afaac2494f68e54b": {
      "model_module": "@jupyter-widgets/base",
      "model_module_version": "2.0.0",
      "model_name": "LayoutModel",
      "state": {}
     },
     "8cc574dc8c6e4b389d76e3038690dc90": {
      "model_module": "@jupyter-widgets/base",
      "model_module_version": "2.0.0",
      "model_name": "LayoutModel",
      "state": {}
     },
     "8e12439ec1174be3906fa8d27445d21f": {
      "model_module": "@jupyter-widgets/controls",
      "model_module_version": "2.0.0",
      "model_name": "HTMLStyleModel",
      "state": {
       "description_width": "",
       "font_size": null,
       "text_color": null
      }
     },
     "91208f192cfb46ed818891016a28ff82": {
      "model_module": "@jupyter-widgets/controls",
      "model_module_version": "2.0.0",
      "model_name": "HTMLModel",
      "state": {
       "layout": "IPY_MODEL_d29a0d6542e64730b07ff1039bfad42d",
       "style": "IPY_MODEL_2eebdff69a4d46a5ae7479057df3c671",
       "value": "YEARS:   0%"
      }
     },
     "949375f4752b4bf3b64cf2c923d085c2": {
      "model_module": "@jupyter-widgets/controls",
      "model_module_version": "2.0.0",
      "model_name": "HBoxModel",
      "state": {
       "children": [
        "IPY_MODEL_2b2915cd8ed440809f0ceebbc58322f8",
        "IPY_MODEL_0a0050bbe3e848bd8cec00fa41b913c5",
        "IPY_MODEL_c1958225116642beb8b32426416bae35"
       ],
       "layout": "IPY_MODEL_dece4e3247ba4648854547e7025b1737"
      }
     },
     "974ddc94808d4a6daf23d6927b7248af": {
      "model_module": "@jupyter-widgets/base",
      "model_module_version": "2.0.0",
      "model_name": "LayoutModel",
      "state": {}
     },
     "99f3e0b3ebb547a6b1b555c9e8503c7c": {
      "model_module": "@jupyter-widgets/controls",
      "model_module_version": "2.0.0",
      "model_name": "HTMLStyleModel",
      "state": {
       "description_width": "",
       "font_size": null,
       "text_color": null
      }
     },
     "9f2f9875703843f58d7734daae36f981": {
      "model_module": "@jupyter-widgets/controls",
      "model_module_version": "2.0.0",
      "model_name": "ProgressStyleModel",
      "state": {
       "description_width": ""
      }
     },
     "aa28b363272b47038af5007ca313bb41": {
      "model_module": "@jupyter-widgets/controls",
      "model_module_version": "2.0.0",
      "model_name": "HTMLModel",
      "state": {
       "layout": "IPY_MODEL_974ddc94808d4a6daf23d6927b7248af",
       "style": "IPY_MODEL_99f3e0b3ebb547a6b1b555c9e8503c7c",
       "value": " 5/2091 [00:21&lt;1:02:32,  1.80s/it]"
      }
     },
     "ac27091afc9941b78de913a3028e7f37": {
      "model_module": "@jupyter-widgets/controls",
      "model_module_version": "2.0.0",
      "model_name": "HBoxModel",
      "state": {
       "children": [
        "IPY_MODEL_7124ed14f8ec4cf8af4fdbe1564f8e7e",
        "IPY_MODEL_ac51238807494359a45685389ddbe2a1",
        "IPY_MODEL_e97896e6533a49fc82a8ba0e92c70c24"
       ],
       "layout": "IPY_MODEL_f70051e6f102477c826faef77be216bd"
      }
     },
     "ac51238807494359a45685389ddbe2a1": {
      "model_module": "@jupyter-widgets/controls",
      "model_module_version": "2.0.0",
      "model_name": "FloatProgressModel",
      "state": {
       "bar_style": "success",
       "layout": "IPY_MODEL_7b04cb3b7e52425db770a56b54f6cf82",
       "max": 7664,
       "style": "IPY_MODEL_19a423c2293b4115bc586c834f2d10a8",
       "value": 7664
      }
     },
     "afc0889f780e4d9ba413a099732b010a": {
      "model_module": "@jupyter-widgets/base",
      "model_module_version": "2.0.0",
      "model_name": "LayoutModel",
      "state": {}
     },
     "b6209f857d4f461c956132cb85fc44dd": {
      "model_module": "@jupyter-widgets/base",
      "model_module_version": "2.0.0",
      "model_name": "LayoutModel",
      "state": {}
     },
     "ba0cadda7f46418fb8eac53a7b721353": {
      "model_module": "@jupyter-widgets/controls",
      "model_module_version": "2.0.0",
      "model_name": "FloatProgressModel",
      "state": {
       "bar_style": "success",
       "layout": "IPY_MODEL_2874cccc25424052a02aad2c8c460643",
       "max": 1,
       "style": "IPY_MODEL_157b0ecec4704214b20ab7d151aefb94",
       "value": 1
      }
     },
     "bb10970b4c4a44b785d8127886627bf3": {
      "model_module": "@jupyter-widgets/controls",
      "model_module_version": "2.0.0",
      "model_name": "FloatProgressModel",
      "state": {
       "bar_style": "danger",
       "layout": "IPY_MODEL_32d682e7dc6e43d88746cbf62a08897f",
       "max": 10,
       "style": "IPY_MODEL_2d39a2a4582a415fa8ea28eee4fd309b"
      }
     },
     "c1958225116642beb8b32426416bae35": {
      "model_module": "@jupyter-widgets/controls",
      "model_module_version": "2.0.0",
      "model_name": "HTMLModel",
      "state": {
       "layout": "IPY_MODEL_ec9548f5178c475d966ed903e4013fe0",
       "style": "IPY_MODEL_f0af54a18b9846dfaed510c78c6fbd33",
       "value": " 0/9 [00:37&lt;?, ?it/s]"
      }
     },
     "c8c623d0bb0a439180ac67c745174e61": {
      "model_module": "@jupyter-widgets/controls",
      "model_module_version": "2.0.0",
      "model_name": "ProgressStyleModel",
      "state": {
       "description_width": ""
      }
     },
     "ca250a2d0a6a4dfaa42f37b1ceebea43": {
      "model_module": "@jupyter-widgets/base",
      "model_module_version": "2.0.0",
      "model_name": "LayoutModel",
      "state": {}
     },
     "cb1d900e1acb495e806a74563a6d6966": {
      "model_module": "@jupyter-widgets/controls",
      "model_module_version": "2.0.0",
      "model_name": "ProgressStyleModel",
      "state": {
       "description_width": ""
      }
     },
     "cc0db017587648799c86efbf2290e813": {
      "model_module": "@jupyter-widgets/base",
      "model_module_version": "2.0.0",
      "model_name": "LayoutModel",
      "state": {}
     },
     "cce5f5b2fdf34fff82b566d5c31920c9": {
      "model_module": "@jupyter-widgets/controls",
      "model_module_version": "2.0.0",
      "model_name": "HTMLModel",
      "state": {
       "layout": "IPY_MODEL_8cc574dc8c6e4b389d76e3038690dc90",
       "style": "IPY_MODEL_5c32f5c89a114a1ebf1e951957d45ec1",
       "value": " 75/2091 [00:37&lt;15:21,  2.19it/s]"
      }
     },
     "d09f61ecbb5c43169a6fcf8779e34e7b": {
      "model_module": "@jupyter-widgets/controls",
      "model_module_version": "2.0.0",
      "model_name": "HBoxModel",
      "state": {
       "children": [
        "IPY_MODEL_7cfa9eca3aa44e5a958afad1db4c6e32",
        "IPY_MODEL_307e5effb91c43a39f71a8acc8251d81",
        "IPY_MODEL_cce5f5b2fdf34fff82b566d5c31920c9"
       ],
       "layout": "IPY_MODEL_2686d3fabcb74897ab5d4d8274ffdeb6"
      }
     },
     "d1d86cbc05a540d7a70c192206d6d8d1": {
      "model_module": "@jupyter-widgets/base",
      "model_module_version": "2.0.0",
      "model_name": "LayoutModel",
      "state": {}
     },
     "d29a0d6542e64730b07ff1039bfad42d": {
      "model_module": "@jupyter-widgets/base",
      "model_module_version": "2.0.0",
      "model_name": "LayoutModel",
      "state": {}
     },
     "dece4e3247ba4648854547e7025b1737": {
      "model_module": "@jupyter-widgets/base",
      "model_module_version": "2.0.0",
      "model_name": "LayoutModel",
      "state": {}
     },
     "df13ce77bce740568dc52c86577a24b6": {
      "model_module": "@jupyter-widgets/controls",
      "model_module_version": "2.0.0",
      "model_name": "HBoxModel",
      "state": {
       "children": [
        "IPY_MODEL_91208f192cfb46ed818891016a28ff82",
        "IPY_MODEL_bb10970b4c4a44b785d8127886627bf3",
        "IPY_MODEL_f9a1666899d640d7b56f0eb40db9be80"
       ],
       "layout": "IPY_MODEL_861e8a64970a42a9afaac2494f68e54b"
      }
     },
     "e225f3bb8ebc4abfa808caf09279b3ce": {
      "model_module": "@jupyter-widgets/controls",
      "model_module_version": "2.0.0",
      "model_name": "HTMLStyleModel",
      "state": {
       "description_width": "",
       "font_size": null,
       "text_color": null
      }
     },
     "e97896e6533a49fc82a8ba0e92c70c24": {
      "model_module": "@jupyter-widgets/controls",
      "model_module_version": "2.0.0",
      "model_name": "HTMLModel",
      "state": {
       "layout": "IPY_MODEL_5d11ccde1d514e1890ac3a2658ef83d1",
       "style": "IPY_MODEL_360436377c15410ca27fa621a6304f24",
       "value": " 7664/7664 [2:11:39&lt;00:00,  2.00s/it]"
      }
     },
     "ec9548f5178c475d966ed903e4013fe0": {
      "model_module": "@jupyter-widgets/base",
      "model_module_version": "2.0.0",
      "model_name": "LayoutModel",
      "state": {}
     },
     "ef2ad95cdcee400aaa5e263e764ff58c": {
      "model_module": "@jupyter-widgets/controls",
      "model_module_version": "2.0.0",
      "model_name": "HBoxModel",
      "state": {
       "children": [
        "IPY_MODEL_7ba1e9e0631c40ca9c20967987939b98",
        "IPY_MODEL_039807ca18af4e88a095e69965175daa",
        "IPY_MODEL_aa28b363272b47038af5007ca313bb41"
       ],
       "layout": "IPY_MODEL_cc0db017587648799c86efbf2290e813"
      }
     },
     "f0af54a18b9846dfaed510c78c6fbd33": {
      "model_module": "@jupyter-widgets/controls",
      "model_module_version": "2.0.0",
      "model_name": "HTMLStyleModel",
      "state": {
       "description_width": "",
       "font_size": null,
       "text_color": null
      }
     },
     "f26806a520214e3cb8bce89da8f38f86": {
      "model_module": "@jupyter-widgets/base",
      "model_module_version": "2.0.0",
      "model_name": "LayoutModel",
      "state": {}
     },
     "f2d8d69bd99d4f3688f76c5acaf135b2": {
      "model_module": "@jupyter-widgets/base",
      "model_module_version": "2.0.0",
      "model_name": "LayoutModel",
      "state": {}
     },
     "f70051e6f102477c826faef77be216bd": {
      "model_module": "@jupyter-widgets/base",
      "model_module_version": "2.0.0",
      "model_name": "LayoutModel",
      "state": {}
     },
     "f91fbe9b20d644cfba803e81f5b37a73": {
      "model_module": "@jupyter-widgets/base",
      "model_module_version": "2.0.0",
      "model_name": "LayoutModel",
      "state": {}
     },
     "f9a1666899d640d7b56f0eb40db9be80": {
      "model_module": "@jupyter-widgets/controls",
      "model_module_version": "2.0.0",
      "model_name": "HTMLModel",
      "state": {
       "layout": "IPY_MODEL_2a33fddd49724fe7a1b5a5a0589ae453",
       "style": "IPY_MODEL_5a91961e45904237911f7b7a87d572c3",
       "value": " 0/10 [00:21&lt;?, ?it/s]"
      }
     }
    },
    "version_major": 2,
    "version_minor": 0
   }
  }
 },
 "nbformat": 4,
 "nbformat_minor": 5
}
